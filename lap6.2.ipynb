{
 "cells": [
  {
   "cell_type": "code",
   "execution_count": 10,
   "metadata": {},
   "outputs": [
    {
     "name": "stdout",
     "output_type": "stream",
     "text": [
      "ชื่อ   j\n",
      "เงินเดือน   5000\n",
      "ล่วงเวลา   45\n",
      "เงินเดือนทั้งหมด:   6750\n"
     ]
    }
   ],
   "source": [
    "name = input(\"ชื่อ\")\n",
    "a = int(input(\"เงินเดือน\"))\n",
    "ot = int(input(\"ล่วงเวลา\"))\n",
    "\n",
    "def sal(ot):\n",
    "    if (ot >= 40):\n",
    "        a = ot*150\n",
    "        return a\n",
    "    else:\n",
    "        a = ot*100\n",
    "        return a\n",
    "    \n",
    "print(\"ชื่อ  \" , name)\n",
    "print(\"เงินเดือน  \" , a)\n",
    "print(\"ล่วงเวลา  \" , ot)\n",
    "print(\"เงินเดือนทั้งหมด:  \" ,sal(ot)  )\n",
    "\n",
    "\n"
   ]
  }
 ],
 "metadata": {
  "kernelspec": {
   "display_name": "Python 3",
   "language": "python",
   "name": "python3"
  },
  "language_info": {
   "codemirror_mode": {
    "name": "ipython",
    "version": 3
   },
   "file_extension": ".py",
   "mimetype": "text/x-python",
   "name": "python",
   "nbconvert_exporter": "python",
   "pygments_lexer": "ipython3",
   "version": "3.12.4"
  }
 },
 "nbformat": 4,
 "nbformat_minor": 2
}
